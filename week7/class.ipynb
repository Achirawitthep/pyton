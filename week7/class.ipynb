{
 "cells": [
  {
   "cell_type": "code",
   "execution_count": null,
   "id": "a541b6cd",
   "metadata": {},
   "outputs": [
    {
     "name": "stdout",
     "output_type": "stream",
     "text": [
      "5\n"
     ]
    }
   ],
   "source": [
    "class Myclass:\n",
    "    x = 5 \n",
    "    y = 10\n",
    "\n",
    "c1 = Myclass\n",
    "print(c1.x)\n",
    "print(c1.y)\n"
   ]
  },
  {
   "cell_type": "code",
   "execution_count": 3,
   "id": "e05cafd1",
   "metadata": {},
   "outputs": [
    {
     "name": "stdout",
     "output_type": "stream",
     "text": [
      "Achi\n",
      "20\n"
     ]
    }
   ],
   "source": [
    "class Person:\n",
    "    def __init__(self,name, age):\n",
    "        self.name = name\n",
    "        self.age = age \n",
    "\n",
    "p1 = Person(\"Achi\", 20)\n",
    "\n",
    "print(p1.name)\n",
    "print(p1.age)\n"
   ]
  },
  {
   "cell_type": "code",
   "execution_count": null,
   "id": "a1167dff",
   "metadata": {},
   "outputs": [],
   "source": [
    "class Person:\n",
    "    def __init__(self,name, age):\n",
    "        self.name = name\n",
    "        self.age = age \n",
    "    \n",
    "    def printname(self):\n",
    "        print(self.name, self.age)\n",
    "\n",
    "    def data_return(self, gender):\n",
    "        return self.name+\" \"+str(self.age)+\" \"+gender\n",
    "    \n",
    "    def profile(self, gender):\n",
    "        return \"gender : \"+gender\n",
    "\n",
    "class Care:\n",
    "    def __init__(self):\n",
    "        self.brand = brand\n",
    "        self.care_array = []\n",
    "\n",
    "    def data_return(self):\n",
    "        return care_array\n",
    "    \n",
    "    def data_add(self, brand):\n",
    "        self.care_array.append(brand)\n",
    "\n",
    "care_data = Care()\n",
    "care_data.data_add(\"Honda\")\n",
    "\n",
    "print(care_data.data_all())\n",
    "\n"
   ]
  },
  {
   "cell_type": "code",
   "execution_count": null,
   "id": "9c4b3187",
   "metadata": {},
   "outputs": [],
   "source": [
    "class Care:\n",
    "    def __init__(self):\n",
    "        self.care_array = []\n",
    "\n",
    "    def data_all(self):\n",
    "        return self.care_array\n",
    "    \n",
    "    def data_add(self, brand):\n",
    "        self.care_array.append(brand)\n",
    "    \n",
    "    def deta_insert(delf, index, value):\n",
    "        self.care_array.insert(index, Value)\n",
    "\n",
    "    def data_pop(delf, index):\n",
    "        self.care_rarray.pop(index)\n",
    "\n",
    "care_data = Care()\n",
    "care_data.data_add(\"Honda\")\n",
    "care_data.data_add(\"Toyota\")\n",
    "care_data.data_add(\"misubishi\")\n",
    "\n",
    "care_data.data_insert(\"2\",\"Nissan\")\n",
    "care_data.data_add(\"Bmw\")\n",
    "care_data.data_pop(1)\n",
    "\n",
    "print(care_data.data_all())\n"
   ]
  }
 ],
 "metadata": {
  "kernelspec": {
   "display_name": "base",
   "language": "python",
   "name": "python3"
  },
  "language_info": {
   "codemirror_mode": {
    "name": "ipython",
    "version": 3
   },
   "file_extension": ".py",
   "mimetype": "text/x-python",
   "name": "python",
   "nbconvert_exporter": "python",
   "pygments_lexer": "ipython3",
   "version": "3.11.4"
  }
 },
 "nbformat": 4,
 "nbformat_minor": 5
}
