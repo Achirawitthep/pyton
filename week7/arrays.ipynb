{
 "cells": [
  {
   "cell_type": "code",
   "execution_count": 37,
   "id": "62defc37",
   "metadata": {},
   "outputs": [
    {
     "name": "stdout",
     "output_type": "stream",
     "text": [
      "backup data ['ford', 'valvo', 'bmw']\n",
      "['ford', 'valvo', 'bmw']\n",
      "['ford', 'toyota', 'bmw']\n",
      "3\n",
      "['ford', 'toyota', 'bmw', 'honda']\n",
      "['bmw', 'ford', 'honda', 'toyota']\n"
     ]
    }
   ],
   "source": [
    "care = [\"ford\", \"valvo\", \"bmw\"]\n",
    "care_copy = care.copy()\n",
    "print(\"backup data\",care_copy)\n",
    "\n",
    "print(care)\n",
    "\n",
    "care[1] = \"toyota\"\n",
    "\n",
    "print(care)\n",
    "\n",
    "x = len(care)\n",
    "\n",
    "print(x)\n",
    "\n",
    "care.append(\"honda\")\n",
    "\n",
    "print(care)\n",
    "\n",
    "#care.clear()\n",
    "\n",
    "#print(care)\n",
    "\n",
    "care.sort(reverse=False)\n",
    "\n",
    "print(care)"
   ]
  },
  {
   "cell_type": "code",
   "execution_count": null,
   "id": "a0d57810",
   "metadata": {},
   "outputs": [
    {
     "name": "stdout",
     "output_type": "stream",
     "text": [
      "['ford', 'toyota', 'mitsubishi', 'bmw', 'honda']\n",
      "['ford', 'toyota', 'mitsubishi', 'honda']\n",
      "['toyota', 'mitsubishi', 'honda']\n"
     ]
    }
   ],
   "source": [
    "care.insert(2,\"mitsubishi\")\n",
    "print(care)\n",
    "\n",
    "care.pop(3)\n",
    "print(care)\n",
    "\n",
    "care.remove(\"ford\")\n",
    "print(care)\n",
    "\n"
   ]
  }
 ],
 "metadata": {
  "kernelspec": {
   "display_name": "base",
   "language": "python",
   "name": "python3"
  },
  "language_info": {
   "codemirror_mode": {
    "name": "ipython",
    "version": 3
   },
   "file_extension": ".py",
   "mimetype": "text/x-python",
   "name": "python",
   "nbconvert_exporter": "python",
   "pygments_lexer": "ipython3",
   "version": "3.11.4"
  }
 },
 "nbformat": 4,
 "nbformat_minor": 5
}
