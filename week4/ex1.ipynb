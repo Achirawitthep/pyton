{
 "cells": [
  {
   "cell_type": "code",
   "execution_count": 12,
   "id": "e1d972a3",
   "metadata": {},
   "outputs": [
    {
     "name": "stdout",
     "output_type": "stream",
     "text": [
      "Achi thep ID: 67 grade  A\n",
      "Achi Thep ID: 67 grade  A\n"
     ]
    }
   ],
   "source": [
    "\n",
    "def cal_grade(point):\n",
    "    if(point) >= 80:\n",
    "        return \" A\"\n",
    "    elif(point)>= 75:\n",
    "        return \" B+\"\n",
    "    elif(point) >= 70:\n",
    "        return \" B\"\n",
    "    elif(point) >= 65:\n",
    "        return \" C+\"\n",
    "    elif(point) >= 60:\n",
    "        return \" C\"\n",
    "    elif(point) >= 55:\n",
    "        return \" D+\"\n",
    "    elif(point) >= 50:\n",
    "        return \" D\"\n",
    "    else:\n",
    "        return \" E\"\n",
    "\n",
    "count = 0  # ตัวแปรนับจำนวนครั้งที่ป้อนข้อมูล\n",
    "stop = 2  # ตัวแปรสำหรับหยุดการทำงานของลูป\n",
    "while (count <  stop ):  # ลูปจะทำงานสูงสุด 3 ครั้ง\n",
    "    inp_name = input(\"Enter your name: \")  # ค่าเข้ามาเป็นสตริง\n",
    "    inp_lastname = input(\"Enter your lastname: \")  # ค่าเข้ามาเป็นสตริง\n",
    "    inp_id = input(\"Enter your id: \")  # ค่าเข้ามาเป็นสตริง\n",
    "\n",
    "    inp_point = input(\"Enter your point: \") #ค่าเข้ามาเป็นสตริง\n",
    "\n",
    "    if(inp_point.isdigit()):  # ตรวจสอบว่าค่าที่ป้อนเข้ามาเป็นตัวเลขหรือไม่\n",
    "        point = float(inp_point) #แปลงเป็นตัวเลขทศนิยม\n",
    "\n",
    "        if point >= 0 and point <= 100:\n",
    "            print( inp_name, inp_lastname, \"ID:\", inp_id , \"grade\", cal_grade(point))  # แสดงผลชื่อ นามสกุล รหัสนักศึกษา และเกรด\n",
    "            \n",
    "            \n",
    "        else:\n",
    "            print(\"เงื่อนไขไม่ถูกต้อง กรุณาใส่คะแนนระหว่าง 0 ถึง 100\")  # แจ้งเตือนหากคะแนนไม่อยู่ในช่วงที่กำหนด\n",
    "    else:\n",
    "        print(\"FALES\")\n",
    "    count += 1  # เพิ่มค่าตัวนับทุกครั้งที่ป้อนข้อมูล\n"
   ]
  }
 ],
 "metadata": {
  "kernelspec": {
   "display_name": "base",
   "language": "python",
   "name": "python3"
  },
  "language_info": {
   "codemirror_mode": {
    "name": "ipython",
    "version": 3
   },
   "file_extension": ".py",
   "mimetype": "text/x-python",
   "name": "python",
   "nbconvert_exporter": "python",
   "pygments_lexer": "ipython3",
   "version": "3.11.4"
  }
 },
 "nbformat": 4,
 "nbformat_minor": 5
}
