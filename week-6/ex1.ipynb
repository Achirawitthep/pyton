{
 "cells": [
  {
   "cell_type": "code",
   "execution_count": 6,
   "id": "16a44afe",
   "metadata": {},
   "outputs": [
    {
     "name": "stdout",
     "output_type": "stream",
     "text": [
      "0\n",
      "1\n",
      "2\n",
      "3\n",
      "4\n",
      "5\n"
     ]
    }
   ],
   "source": [
    "for x in range(6):\n",
    "    print(x)"
   ]
  },
  {
   "cell_type": "code",
   "execution_count": 1,
   "id": "9d64fe20",
   "metadata": {},
   "outputs": [
    {
     "name": "stdout",
     "output_type": "stream",
     "text": [
      "2\n",
      "4\n",
      "6\n",
      "8\n"
     ]
    }
   ],
   "source": [
    "for x in range(2,10,2):\n",
    "    print(x)\n",
    "    "
   ]
  },
  {
   "cell_type": "code",
   "execution_count": 5,
   "id": "be92d6ff",
   "metadata": {},
   "outputs": [
    {
     "name": "stdout",
     "output_type": "stream",
     "text": [
      "0\n",
      "1\n",
      "2\n"
     ]
    }
   ],
   "source": [
    "for x in range(6):\n",
    "    if(x == 3):\n",
    "        break\n",
    "    print(x)\n",
    "else:\n",
    "    print(\"finally finished\")"
   ]
  },
  {
   "cell_type": "code",
   "execution_count": 9,
   "id": "6ec6dedd",
   "metadata": {},
   "outputs": [
    {
     "name": "stdout",
     "output_type": "stream",
     "text": [
      "red\n",
      "big\n",
      "tasty\n"
     ]
    }
   ],
   "source": [
    "adj = [\"red\", \"big\", \"tasty\"]\n",
    "\n",
    "for x in adj:\n",
    "    print(x)"
   ]
  },
  {
   "cell_type": "code",
   "execution_count": 10,
   "id": "614cf92c",
   "metadata": {},
   "outputs": [
    {
     "name": "stdout",
     "output_type": "stream",
     "text": [
      "range(0, 6)\n"
     ]
    }
   ],
   "source": [
    "print(range(6))\n"
   ]
  },
  {
   "cell_type": "code",
   "execution_count": null,
   "id": "a77f4239",
   "metadata": {},
   "outputs": [
    {
     "name": "stdout",
     "output_type": "stream",
     "text": [
      "apple is color red\n",
      "banana is color yellow\n",
      "cherry is color purple\n"
     ]
    }
   ],
   "source": [
    "fruits = [\"apple\", \"banana\", \"cherry\"]\n",
    "color = [\"red\", \"yellow\", \"purple\"]\n",
    "j=0\n",
    "for i in fruits:\n",
    "    print(i,\"is color\", color[j])\n",
    "    j =j+1\n",
    "    "
   ]
  },
  {
   "cell_type": "code",
   "execution_count": 11,
   "id": "0d741e44",
   "metadata": {},
   "outputs": [],
   "source": [
    "fruits = []\n",
    "color = []\n",
    "j = 0\n",
    "while True:\n",
    "    inp_state = input(\"Press 'q' for end , or enter to any input\")\n",
    "    if inp_state.lower() == 'q':\n",
    "        break\n",
    "    else:\n",
    "\n",
    "        inpl = input(\"Enter fruit name: \")\n",
    "        fruits.append(inpl)\n",
    "\n",
    "        inp2 = input(\"Enter color name: \")\n",
    "        color.append(inp2)\n",
    "        #print(i,\"is color\", color[j])\n",
    "        j = j + 1\n"
   ]
  },
  {
   "cell_type": "code",
   "execution_count": null,
   "id": "f93f3850",
   "metadata": {},
   "outputs": [
    {
     "name": "stdout",
     "output_type": "stream",
     "text": [
      "soriugh is color o\n"
     ]
    }
   ],
   "source": [
    "for i in fruits:\n",
    "    print(inpl,\"is color\", inp2)\n",
    "    j =j+1"
   ]
  },
  {
   "cell_type": "code",
   "execution_count": 17,
   "id": "88e3a92f",
   "metadata": {},
   "outputs": [
    {
     "name": "stdout",
     "output_type": "stream",
     "text": [
      "15\n",
      "6.0\n"
     ]
    }
   ],
   "source": [
    "#lamda\n",
    "x = lambda a: a + 10\n",
    "print(x(5))\n",
    "\n",
    "x = lambda x1, y1, x2, y2, x3, y3  : 0.5 * abs(x1*(y2 - y3) + x2*(y3 - y1) + x3*(y1 - y2))\n",
    "print(x(1,1,4,1,1,5))"
   ]
  },
  {
   "cell_type": "code",
   "execution_count": 23,
   "id": "8cf11603",
   "metadata": {},
   "outputs": [
    {
     "name": "stdout",
     "output_type": "stream",
     "text": [
      "sorted by bumber :  [('cherry', 9), ('banana', 3), ('apple', 5)]\n"
     ]
    }
   ],
   "source": [
    "data = [(\"apple\", 5), (\"banana\", 3), (\"cherry\", 9)]\n",
    "\n",
    "data.sort(key=lambda x: x[0], reverse=True)\n",
    "print(\"sorted by bumber : \", data)\n"
   ]
  }
 ],
 "metadata": {
  "kernelspec": {
   "display_name": "base",
   "language": "python",
   "name": "python3"
  },
  "language_info": {
   "codemirror_mode": {
    "name": "ipython",
    "version": 3
   },
   "file_extension": ".py",
   "mimetype": "text/x-python",
   "name": "python",
   "nbconvert_exporter": "python",
   "pygments_lexer": "ipython3",
   "version": "3.11.4"
  }
 },
 "nbformat": 4,
 "nbformat_minor": 5
}
